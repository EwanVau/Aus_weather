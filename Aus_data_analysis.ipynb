{
  "nbformat": 4,
  "nbformat_minor": 5,
  "metadata": {
    "kernelspec": {
      "display_name": "Python 3 (ipykernel)",
      "language": "python",
      "name": "python3"
    },
    "language_info": {
      "codemirror_mode": {
        "name": "ipython",
        "version": 3
      },
      "file_extension": ".py",
      "mimetype": "text/x-python",
      "name": "python",
      "nbconvert_exporter": "python",
      "pygments_lexer": "ipython3",
      "version": "3.9.7"
    },
    "colab": {
      "name": "Aus_data_analysis.ipynb",
      "provenance": [],
      "collapsed_sections": [
        "ce8037de",
        "FPHS0duisVv-"
      ]
    }
  },
  "cells": [
    {
      "cell_type": "markdown",
      "metadata": {
        "id": "ce8037de"
      },
      "source": [
        "## Introduction\n",
        "# Australian Weather Data\n",
        "This notebook looks at the Australian dataset, gathered from https://www.kaggle.com/sveneschlbeck/west-australia-weather-1944-2016\n",
        "\n",
        "This is intended to be an exploritory look into the data"
      ],
      "id": "ce8037de"
    },
    {
      "cell_type": "code",
      "metadata": {
        "id": "b0eee978"
      },
      "source": [
        "import numpy as np # linear algebra\n",
        "import pandas as pd # data processing, CSV file I/O (e.g. pd.read_csv)\n",
        "import os\n",
        "import datetime\n",
        "import matplotlib.pyplot as plt\n",
        "#from sklearn.impute import IterativeImputer\n",
        "import seaborn as sns\n"
      ],
      "id": "b0eee978",
      "execution_count": 1,
      "outputs": []
    },
    {
      "cell_type": "code",
      "metadata": {
        "colab": {
          "resources": {
            "http://localhost:8080/nbextensions/google.colab/files.js": {
              "data": "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",
              "ok": true,
              "headers": [
                [
                  "content-type",
                  "application/javascript"
                ]
              ],
              "status": 200,
              "status_text": "OK"
            }
          },
          "base_uri": "https://localhost:8080/",
          "height": 74
        },
        "id": "e41feb7a",
        "outputId": "e579cf96-6e20-4c66-c3f8-e2f14e31b621"
      },
      "source": [
        "#uploading the file\n",
        "if not os.path.isfile('aus_weather.csv'):\n",
        "  from google.colab import files\n",
        "  uploaded = files.upload()"
      ],
      "id": "e41feb7a",
      "execution_count": 2,
      "outputs": [
        {
          "output_type": "display_data",
          "data": {
            "text/html": [
              "\n",
              "     <input type=\"file\" id=\"files-74bafb15-7069-4b9c-9ba3-bd14dfb7f57e\" name=\"files[]\" multiple disabled\n",
              "        style=\"border:none\" />\n",
              "     <output id=\"result-74bafb15-7069-4b9c-9ba3-bd14dfb7f57e\">\n",
              "      Upload widget is only available when the cell has been executed in the\n",
              "      current browser session. Please rerun this cell to enable.\n",
              "      </output>\n",
              "      <script src=\"/nbextensions/google.colab/files.js\"></script> "
            ],
            "text/plain": [
              "<IPython.core.display.HTML object>"
            ]
          },
          "metadata": {}
        },
        {
          "output_type": "stream",
          "name": "stdout",
          "text": [
            "Saving aus_weather.csv to aus_weather.csv\n"
          ]
        }
      ]
    },
    {
      "cell_type": "code",
      "metadata": {
        "colab": {
          "base_uri": "https://localhost:8080/",
          "height": 424
        },
        "id": "ba42cf95",
        "outputId": "9b37f514-e38c-4c06-b427-678689f3d21a"
      },
      "source": [
        "data = pd.read_csv('aus_weather.csv')\n",
        "data"
      ],
      "id": "ba42cf95",
      "execution_count": 3,
      "outputs": [
        {
          "output_type": "execute_result",
          "data": {
            "text/html": [
              "<div>\n",
              "<style scoped>\n",
              "    .dataframe tbody tr th:only-of-type {\n",
              "        vertical-align: middle;\n",
              "    }\n",
              "\n",
              "    .dataframe tbody tr th {\n",
              "        vertical-align: top;\n",
              "    }\n",
              "\n",
              "    .dataframe thead th {\n",
              "        text-align: right;\n",
              "    }\n",
              "</style>\n",
              "<table border=\"1\" class=\"dataframe\">\n",
              "  <thead>\n",
              "    <tr style=\"text-align: right;\">\n",
              "      <th></th>\n",
              "      <th>Year</th>\n",
              "      <th>Month</th>\n",
              "      <th>Day</th>\n",
              "      <th>rainfall_mm</th>\n",
              "      <th>min_temp_C</th>\n",
              "      <th>max_temp_C</th>\n",
              "      <th>daily_avg</th>\n",
              "      <th>daily_range</th>\n",
              "      <th>uv_MJ_m*m</th>\n",
              "      <th>Season</th>\n",
              "    </tr>\n",
              "  </thead>\n",
              "  <tbody>\n",
              "    <tr>\n",
              "      <th>0</th>\n",
              "      <td>1944</td>\n",
              "      <td>5</td>\n",
              "      <td>1</td>\n",
              "      <td>0.0</td>\n",
              "      <td>NaN</td>\n",
              "      <td>NaN</td>\n",
              "      <td>0.00</td>\n",
              "      <td>0.0</td>\n",
              "      <td>NaN</td>\n",
              "      <td>3</td>\n",
              "    </tr>\n",
              "    <tr>\n",
              "      <th>1</th>\n",
              "      <td>1944</td>\n",
              "      <td>5</td>\n",
              "      <td>2</td>\n",
              "      <td>0.0</td>\n",
              "      <td>NaN</td>\n",
              "      <td>NaN</td>\n",
              "      <td>0.00</td>\n",
              "      <td>0.0</td>\n",
              "      <td>NaN</td>\n",
              "      <td>3</td>\n",
              "    </tr>\n",
              "    <tr>\n",
              "      <th>2</th>\n",
              "      <td>1944</td>\n",
              "      <td>5</td>\n",
              "      <td>3</td>\n",
              "      <td>0.0</td>\n",
              "      <td>NaN</td>\n",
              "      <td>NaN</td>\n",
              "      <td>0.00</td>\n",
              "      <td>0.0</td>\n",
              "      <td>NaN</td>\n",
              "      <td>3</td>\n",
              "    </tr>\n",
              "    <tr>\n",
              "      <th>3</th>\n",
              "      <td>1944</td>\n",
              "      <td>5</td>\n",
              "      <td>4</td>\n",
              "      <td>4.3</td>\n",
              "      <td>NaN</td>\n",
              "      <td>NaN</td>\n",
              "      <td>0.00</td>\n",
              "      <td>0.0</td>\n",
              "      <td>NaN</td>\n",
              "      <td>3</td>\n",
              "    </tr>\n",
              "    <tr>\n",
              "      <th>4</th>\n",
              "      <td>1944</td>\n",
              "      <td>5</td>\n",
              "      <td>5</td>\n",
              "      <td>0.0</td>\n",
              "      <td>NaN</td>\n",
              "      <td>NaN</td>\n",
              "      <td>0.00</td>\n",
              "      <td>0.0</td>\n",
              "      <td>NaN</td>\n",
              "      <td>3</td>\n",
              "    </tr>\n",
              "    <tr>\n",
              "      <th>...</th>\n",
              "      <td>...</td>\n",
              "      <td>...</td>\n",
              "      <td>...</td>\n",
              "      <td>...</td>\n",
              "      <td>...</td>\n",
              "      <td>...</td>\n",
              "      <td>...</td>\n",
              "      <td>...</td>\n",
              "      <td>...</td>\n",
              "      <td>...</td>\n",
              "    </tr>\n",
              "    <tr>\n",
              "      <th>26538</th>\n",
              "      <td>2016</td>\n",
              "      <td>12</td>\n",
              "      <td>27</td>\n",
              "      <td>0.4</td>\n",
              "      <td>16.3</td>\n",
              "      <td>23.2</td>\n",
              "      <td>19.75</td>\n",
              "      <td>6.9</td>\n",
              "      <td>26.8</td>\n",
              "      <td>2</td>\n",
              "    </tr>\n",
              "    <tr>\n",
              "      <th>26539</th>\n",
              "      <td>2016</td>\n",
              "      <td>12</td>\n",
              "      <td>28</td>\n",
              "      <td>0.6</td>\n",
              "      <td>8.9</td>\n",
              "      <td>23.5</td>\n",
              "      <td>16.20</td>\n",
              "      <td>14.6</td>\n",
              "      <td>30.3</td>\n",
              "      <td>2</td>\n",
              "    </tr>\n",
              "    <tr>\n",
              "      <th>26540</th>\n",
              "      <td>2016</td>\n",
              "      <td>12</td>\n",
              "      <td>29</td>\n",
              "      <td>0.0</td>\n",
              "      <td>9.5</td>\n",
              "      <td>24.8</td>\n",
              "      <td>17.15</td>\n",
              "      <td>15.3</td>\n",
              "      <td>31.6</td>\n",
              "      <td>2</td>\n",
              "    </tr>\n",
              "    <tr>\n",
              "      <th>26541</th>\n",
              "      <td>2016</td>\n",
              "      <td>12</td>\n",
              "      <td>30</td>\n",
              "      <td>0.0</td>\n",
              "      <td>10.6</td>\n",
              "      <td>24.2</td>\n",
              "      <td>17.40</td>\n",
              "      <td>13.6</td>\n",
              "      <td>30.6</td>\n",
              "      <td>2</td>\n",
              "    </tr>\n",
              "    <tr>\n",
              "      <th>26542</th>\n",
              "      <td>2016</td>\n",
              "      <td>12</td>\n",
              "      <td>31</td>\n",
              "      <td>0.0</td>\n",
              "      <td>12.1</td>\n",
              "      <td>28.9</td>\n",
              "      <td>20.50</td>\n",
              "      <td>16.8</td>\n",
              "      <td>31.5</td>\n",
              "      <td>2</td>\n",
              "    </tr>\n",
              "  </tbody>\n",
              "</table>\n",
              "<p>26543 rows × 10 columns</p>\n",
              "</div>"
            ],
            "text/plain": [
              "       Year  Month  Day  rainfall_mm  ...  daily_avg  daily_range  uv_MJ_m*m  Season\n",
              "0      1944      5    1          0.0  ...       0.00          0.0        NaN       3\n",
              "1      1944      5    2          0.0  ...       0.00          0.0        NaN       3\n",
              "2      1944      5    3          0.0  ...       0.00          0.0        NaN       3\n",
              "3      1944      5    4          4.3  ...       0.00          0.0        NaN       3\n",
              "4      1944      5    5          0.0  ...       0.00          0.0        NaN       3\n",
              "...     ...    ...  ...          ...  ...        ...          ...        ...     ...\n",
              "26538  2016     12   27          0.4  ...      19.75          6.9       26.8       2\n",
              "26539  2016     12   28          0.6  ...      16.20         14.6       30.3       2\n",
              "26540  2016     12   29          0.0  ...      17.15         15.3       31.6       2\n",
              "26541  2016     12   30          0.0  ...      17.40         13.6       30.6       2\n",
              "26542  2016     12   31          0.0  ...      20.50         16.8       31.5       2\n",
              "\n",
              "[26543 rows x 10 columns]"
            ]
          },
          "metadata": {},
          "execution_count": 3
        }
      ]
    },
    {
      "cell_type": "markdown",
      "metadata": {
        "id": "gjx0l14awLtd"
      },
      "source": [
        "The dataset contains 26543 rows of data, however the earlier data contains a lot of NaNs. Dealing with these is a priority as we need to convert them to useable data without affecting the overall statistical properties.\n",
        "\n"
      ],
      "id": "gjx0l14awLtd"
    },
    {
      "cell_type": "code",
      "metadata": {
        "colab": {
          "base_uri": "https://localhost:8080/"
        },
        "id": "jtab40LZzNND",
        "outputId": "f777a4b8-d96a-474b-d517-f349977a32e3"
      },
      "source": [
        "data.info()"
      ],
      "id": "jtab40LZzNND",
      "execution_count": 4,
      "outputs": [
        {
          "output_type": "stream",
          "name": "stdout",
          "text": [
            "<class 'pandas.core.frame.DataFrame'>\n",
            "RangeIndex: 26543 entries, 0 to 26542\n",
            "Data columns (total 10 columns):\n",
            " #   Column       Non-Null Count  Dtype  \n",
            "---  ------       --------------  -----  \n",
            " 0   Year         26543 non-null  int64  \n",
            " 1   Month        26543 non-null  int64  \n",
            " 2   Day          26543 non-null  int64  \n",
            " 3   rainfall_mm  26543 non-null  float64\n",
            " 4   min_temp_C   26435 non-null  float64\n",
            " 5   max_temp_C   26480 non-null  float64\n",
            " 6   daily_avg    26543 non-null  float64\n",
            " 7   daily_range  26543 non-null  float64\n",
            " 8   uv_MJ_m*m    9390 non-null   float64\n",
            " 9   Season       26543 non-null  int64  \n",
            "dtypes: float64(6), int64(4)\n",
            "memory usage: 2.0 MB\n"
          ]
        }
      ]
    },
    {
      "cell_type": "code",
      "metadata": {
        "colab": {
          "base_uri": "https://localhost:8080/"
        },
        "id": "E_kzDBp31fsq",
        "outputId": "705ace9c-6fe7-4f35-f273-d38a0103a33a"
      },
      "source": [
        "#Counting the number of NaNs in the individual columns\n",
        "data.isnull().sum()"
      ],
      "id": "E_kzDBp31fsq",
      "execution_count": 5,
      "outputs": [
        {
          "output_type": "execute_result",
          "data": {
            "text/plain": [
              "Year               0\n",
              "Month              0\n",
              "Day                0\n",
              "rainfall_mm        0\n",
              "min_temp_C       108\n",
              "max_temp_C        63\n",
              "daily_avg          0\n",
              "daily_range        0\n",
              "uv_MJ_m*m      17153\n",
              "Season             0\n",
              "dtype: int64"
            ]
          },
          "metadata": {},
          "execution_count": 5
        }
      ]
    },
    {
      "cell_type": "code",
      "metadata": {
        "colab": {
          "base_uri": "https://localhost:8080/",
          "height": 300
        },
        "id": "_S_Xb4qG1goL",
        "outputId": "e03dda82-c8a3-47e6-9d65-54f68493d8e3"
      },
      "source": [
        "data.describe()"
      ],
      "id": "_S_Xb4qG1goL",
      "execution_count": 6,
      "outputs": [
        {
          "output_type": "execute_result",
          "data": {
            "text/html": [
              "<div>\n",
              "<style scoped>\n",
              "    .dataframe tbody tr th:only-of-type {\n",
              "        vertical-align: middle;\n",
              "    }\n",
              "\n",
              "    .dataframe tbody tr th {\n",
              "        vertical-align: top;\n",
              "    }\n",
              "\n",
              "    .dataframe thead th {\n",
              "        text-align: right;\n",
              "    }\n",
              "</style>\n",
              "<table border=\"1\" class=\"dataframe\">\n",
              "  <thead>\n",
              "    <tr style=\"text-align: right;\">\n",
              "      <th></th>\n",
              "      <th>Year</th>\n",
              "      <th>Month</th>\n",
              "      <th>Day</th>\n",
              "      <th>rainfall_mm</th>\n",
              "      <th>min_temp_C</th>\n",
              "      <th>max_temp_C</th>\n",
              "      <th>daily_avg</th>\n",
              "      <th>daily_range</th>\n",
              "      <th>uv_MJ_m*m</th>\n",
              "      <th>Season</th>\n",
              "    </tr>\n",
              "  </thead>\n",
              "  <tbody>\n",
              "    <tr>\n",
              "      <th>count</th>\n",
              "      <td>26543.000000</td>\n",
              "      <td>26543.000000</td>\n",
              "      <td>26543.000000</td>\n",
              "      <td>26543.000000</td>\n",
              "      <td>26435.000000</td>\n",
              "      <td>26480.000000</td>\n",
              "      <td>26543.000000</td>\n",
              "      <td>26543.000000</td>\n",
              "      <td>9390.000000</td>\n",
              "      <td>26543.000000</td>\n",
              "    </tr>\n",
              "    <tr>\n",
              "      <th>mean</th>\n",
              "      <td>1980.164111</td>\n",
              "      <td>6.541160</td>\n",
              "      <td>15.730437</td>\n",
              "      <td>2.101281</td>\n",
              "      <td>12.104358</td>\n",
              "      <td>24.451828</td>\n",
              "      <td>18.224449</td>\n",
              "      <td>12.338684</td>\n",
              "      <td>18.967348</td>\n",
              "      <td>2.506499</td>\n",
              "    </tr>\n",
              "    <tr>\n",
              "      <th>std</th>\n",
              "      <td>20.979310</td>\n",
              "      <td>3.445064</td>\n",
              "      <td>8.800655</td>\n",
              "      <td>5.851269</td>\n",
              "      <td>4.736770</td>\n",
              "      <td>6.287806</td>\n",
              "      <td>5.203848</td>\n",
              "      <td>4.390402</td>\n",
              "      <td>8.726202</td>\n",
              "      <td>1.120981</td>\n",
              "    </tr>\n",
              "    <tr>\n",
              "      <th>min</th>\n",
              "      <td>1944.000000</td>\n",
              "      <td>1.000000</td>\n",
              "      <td>1.000000</td>\n",
              "      <td>0.000000</td>\n",
              "      <td>-1.300000</td>\n",
              "      <td>9.400000</td>\n",
              "      <td>0.000000</td>\n",
              "      <td>-20.600000</td>\n",
              "      <td>0.200000</td>\n",
              "      <td>1.000000</td>\n",
              "    </tr>\n",
              "    <tr>\n",
              "      <th>25%</th>\n",
              "      <td>1962.000000</td>\n",
              "      <td>4.000000</td>\n",
              "      <td>8.000000</td>\n",
              "      <td>0.000000</td>\n",
              "      <td>8.700000</td>\n",
              "      <td>19.400000</td>\n",
              "      <td>14.250000</td>\n",
              "      <td>9.200000</td>\n",
              "      <td>11.600000</td>\n",
              "      <td>1.000000</td>\n",
              "    </tr>\n",
              "    <tr>\n",
              "      <th>50%</th>\n",
              "      <td>1980.000000</td>\n",
              "      <td>7.000000</td>\n",
              "      <td>16.000000</td>\n",
              "      <td>0.000000</td>\n",
              "      <td>11.800000</td>\n",
              "      <td>23.200000</td>\n",
              "      <td>17.300000</td>\n",
              "      <td>12.400000</td>\n",
              "      <td>17.900000</td>\n",
              "      <td>3.000000</td>\n",
              "    </tr>\n",
              "    <tr>\n",
              "      <th>75%</th>\n",
              "      <td>1998.000000</td>\n",
              "      <td>10.000000</td>\n",
              "      <td>23.000000</td>\n",
              "      <td>0.600000</td>\n",
              "      <td>15.400000</td>\n",
              "      <td>28.800000</td>\n",
              "      <td>21.900000</td>\n",
              "      <td>15.300000</td>\n",
              "      <td>26.900000</td>\n",
              "      <td>4.000000</td>\n",
              "    </tr>\n",
              "    <tr>\n",
              "      <th>max</th>\n",
              "      <td>2016.000000</td>\n",
              "      <td>12.000000</td>\n",
              "      <td>31.000000</td>\n",
              "      <td>132.000000</td>\n",
              "      <td>28.700000</td>\n",
              "      <td>46.700000</td>\n",
              "      <td>36.800000</td>\n",
              "      <td>43.500000</td>\n",
              "      <td>37.100000</td>\n",
              "      <td>4.000000</td>\n",
              "    </tr>\n",
              "  </tbody>\n",
              "</table>\n",
              "</div>"
            ],
            "text/plain": [
              "               Year         Month  ...    uv_MJ_m*m        Season\n",
              "count  26543.000000  26543.000000  ...  9390.000000  26543.000000\n",
              "mean    1980.164111      6.541160  ...    18.967348      2.506499\n",
              "std       20.979310      3.445064  ...     8.726202      1.120981\n",
              "min     1944.000000      1.000000  ...     0.200000      1.000000\n",
              "25%     1962.000000      4.000000  ...    11.600000      1.000000\n",
              "50%     1980.000000      7.000000  ...    17.900000      3.000000\n",
              "75%     1998.000000     10.000000  ...    26.900000      4.000000\n",
              "max     2016.000000     12.000000  ...    37.100000      4.000000\n",
              "\n",
              "[8 rows x 10 columns]"
            ]
          },
          "metadata": {},
          "execution_count": 6
        }
      ]
    },
    {
      "cell_type": "markdown",
      "metadata": {
        "id": "FPHS0duisVv-"
      },
      "source": [
        "##Plotting\n",
        "Now that we have had a look at our data, it is important to plot the data so that it is easy to visualise, both for clarity and also for spotting any outliers within the dataset."
      ],
      "id": "FPHS0duisVv-"
    },
    {
      "cell_type": "code",
      "metadata": {
        "colab": {
          "base_uri": "https://localhost:8080/",
          "height": 729
        },
        "id": "zeqMsOQH1glA",
        "outputId": "21020aae-1777-4764-a575-43284634afad"
      },
      "source": [
        "# Boxplots\n",
        "fig, axes = plt.subplots(6, 1, figsize=(10,10), sharey=False)\n",
        "fig.suptitle(\"Boxplots of the different features\")\n",
        "\n",
        "# Rainfall\n",
        "sns.boxplot(x= 'rainfall_mm', data = data, palette = 'Set2', ax = axes[0])\n",
        "axes[0].set_title(\"\")\n",
        "\n",
        "# Min temp\n",
        "sns.boxplot(x= 'min_temp_C', data = data, palette = 'Set2', ax = axes[1])\n",
        "axes[1].set_title(\"\")\n",
        "\n",
        "# Max temp\n",
        "sns.boxplot(x= 'max_temp_C', data = data, palette = 'Set2', ax = axes[2])\n",
        "axes[2].set_title(\"\")\n",
        "\n",
        "# Daily avg.\n",
        "sns.boxplot(x= 'daily_avg', data = data, palette = 'Set2', ax = axes[3])\n",
        "axes[3].set_title(\"\")\n",
        "\n",
        "# Daily range\n",
        "sns.boxplot(x= 'daily_range', data = data, palette = 'Set2', ax = axes[4])\n",
        "axes[4].set_title(\"\")\n",
        "\n",
        "# uv_MJ_m*m\n",
        "sns.boxplot(x= 'uv_MJ_m*m', data = data, palette = 'Set2', ax = axes[5])\n",
        "axes[5].set_title(\"\")\n",
        "\n",
        "plt.tight_layout()"
      ],
      "id": "zeqMsOQH1glA",
      "execution_count": 7,
      "outputs": [
        {
          "output_type": "display_data",
          "data": {
            "image/png": "[encoded data removed]",
            "text/plain": [
              "<Figure size 720x720 with 6 Axes>"
            ]
          },
          "metadata": {
            "needs_background": "light"
          }
        }
      ]
    },
    {
      "cell_type": "markdown",
      "metadata": {
        "id": "luuq0KmR-pnL"
      },
      "source": [
        "Interestingly there are numerous outliers in rainfall, min temp and max temp"
      ],
      "id": "luuq0KmR-pnL"
    },
    {
      "cell_type": "code",
      "metadata": {
        "id": "dAfSerEz-pCV",
        "colab": {
          "base_uri": "https://localhost:8080/",
          "height": 729
        },
        "outputId": "8ab2a647-6be5-476c-838c-7dfc9694454e"
      },
      "source": [
        "# Histograms\n",
        "fig, axes = plt.subplots(6, 1, figsize=(10,10), sharey=False)\n",
        "fig.suptitle(\"Boxplots of the different features\")\n",
        "\n",
        "# Rainfall\n",
        "sns.histplot(x= 'rainfall_mm', data = data, palette = 'Set2', ax = axes[0], bins=20)\n",
        "axes[0].set_title(\"\")\n",
        "\n",
        "# Min temp\n",
        "sns.histplot(x= 'min_temp_C', data = data, palette = 'Set2', ax = axes[1], bins=20)\n",
        "axes[1].set_title(\"\")\n",
        "\n",
        "# Max temp\n",
        "sns.histplot(x= 'max_temp_C', data = data, palette = 'Set2', ax = axes[2], bins=20)\n",
        "axes[2].set_title(\"\")\n",
        "\n",
        "# Daily avg.\n",
        "sns.histplot(x= 'daily_avg', data = data, palette = 'Set2', ax = axes[3], bins=20)\n",
        "axes[3].set_title(\"\")\n",
        "\n",
        "# Daily range\n",
        "sns.histplot(x= 'daily_range', data = data, palette = 'Set2', ax = axes[4], bins=20)\n",
        "axes[4].set_title(\"\")\n",
        "\n",
        "# uv_MJ_m*m\n",
        "sns.histplot(x= 'uv_MJ_m*m', data = data, palette = 'Set2', ax = axes[5], bins=20)\n",
        "axes[5].set_title(\"\")\n",
        "\n",
        "plt.tight_layout()"
      ],
      "id": "dAfSerEz-pCV",
      "execution_count": 8,
      "outputs": [
        {
          "output_type": "display_data",
          "data": {
            "image/png": "[encoded data removed]",
            "text/plain": [
              "<Figure size 720x720 with 6 Axes>"
            ]
          },
          "metadata": {
            "needs_background": "light"
          }
        }
      ]
    },
    {
      "cell_type": "markdown",
      "metadata": {
        "id": "sSPr2Y2sOkUP"
      },
      "source": [
        "From these histograms it is clear that there is right skewness in the rainfall_mm and max_temp_C features. "
      ],
      "id": "sSPr2Y2sOkUP"
    },
    {
      "cell_type": "code",
      "metadata": {
        "id": "PUP1m68H1gIX",
        "colab": {
          "base_uri": "https://localhost:8080/",
          "height": 237
        },
        "outputId": "9a684190-77a3-4bdf-f390-bb5f6f151d95"
      },
      "source": [
        "# determine index for continuous variables\n",
        "num_feats = data.dtypes[data.dtypes != 'int64'].index\n",
        "# calculates skew and sorts\n",
        "skew_feats = data[num_feats].skew().sort_values(ascending=False)\n",
        "skewness = pd.DataFrame({'skew':skew_feats})\n",
        "skewness"
      ],
      "id": "PUP1m68H1gIX",
      "execution_count": 9,
      "outputs": [
        {
          "output_type": "execute_result",
          "data": {
            "text/html": [
              "<div>\n",
              "<style scoped>\n",
              "    .dataframe tbody tr th:only-of-type {\n",
              "        vertical-align: middle;\n",
              "    }\n",
              "\n",
              "    .dataframe tbody tr th {\n",
              "        vertical-align: top;\n",
              "    }\n",
              "\n",
              "    .dataframe thead th {\n",
              "        text-align: right;\n",
              "    }\n",
              "</style>\n",
              "<table border=\"1\" class=\"dataframe\">\n",
              "  <thead>\n",
              "    <tr style=\"text-align: right;\">\n",
              "      <th></th>\n",
              "      <th>skew</th>\n",
              "    </tr>\n",
              "  </thead>\n",
              "  <tbody>\n",
              "    <tr>\n",
              "      <th>rainfall_mm</th>\n",
              "      <td>4.890339</td>\n",
              "    </tr>\n",
              "    <tr>\n",
              "      <th>max_temp_C</th>\n",
              "      <td>0.622530</td>\n",
              "    </tr>\n",
              "    <tr>\n",
              "      <th>daily_avg</th>\n",
              "      <td>0.457406</td>\n",
              "    </tr>\n",
              "    <tr>\n",
              "      <th>min_temp_C</th>\n",
              "      <td>0.208089</td>\n",
              "    </tr>\n",
              "    <tr>\n",
              "      <th>uv_MJ_m*m</th>\n",
              "      <td>0.120025</td>\n",
              "    </tr>\n",
              "    <tr>\n",
              "      <th>daily_range</th>\n",
              "      <td>0.013451</td>\n",
              "    </tr>\n",
              "  </tbody>\n",
              "</table>\n",
              "</div>"
            ],
            "text/plain": [
              "                 skew\n",
              "rainfall_mm  4.890339\n",
              "max_temp_C   0.622530\n",
              "daily_avg    0.457406\n",
              "min_temp_C   0.208089\n",
              "uv_MJ_m*m    0.120025\n",
              "daily_range  0.013451"
            ]
          },
          "metadata": {},
          "execution_count": 9
        }
      ]
    },
    {
      "cell_type": "markdown",
      "metadata": {
        "id": "LnJemvovQ7NA"
      },
      "source": [
        "This confirms that the rainfall_mm feature needs to have some manipulation to it, if a logistic regression model is desired.\n",
        "\n",
        "Since we also need to deal with the NaNs in the dataset, now is a good time to start parsing the data."
      ],
      "id": "LnJemvovQ7NA"
    },
    {
      "cell_type": "markdown",
      "metadata": {
        "id": "ViGN52mKaswK"
      },
      "source": [
        "## Data Parsing"
      ],
      "id": "ViGN52mKaswK"
    },
    {
      "cell_type": "code",
      "metadata": {
        "colab": {
          "base_uri": "https://localhost:8080/"
        },
        "id": "1Ty9D0ZBasN9",
        "outputId": "17ec5c65-33be-4556-deaa-c6c781c56cbf"
      },
      "source": [
        "# Check the quartile ranges\n",
        "for column in [\"rainfall_mm\", \"max_temp_C\", \"daily_avg\", \"min_temp_C\", \"uv_MJ_m*m\", \"daily_range\"]:\n",
        "    IQR = data[column].quantile(0.75) - data[column].quantile(0.25) # Inter-quartile range\n",
        "    Lower_fence = data[column].quantile(0.25) - (IQR * 3) # Lower bound\n",
        "    Upper_fence = data[column].quantile(0.75) + (IQR * 3) # Upper bound\n",
        "    print(f'{column} outliers are values < {round(Lower_fence,2)} or > {round(Upper_fence,2)}')"
      ],
      "id": "1Ty9D0ZBasN9",
      "execution_count": 10,
      "outputs": [
        {
          "output_type": "stream",
          "name": "stdout",
          "text": [
            "rainfall_mm outliers are values < -1.8 or > 2.4\n",
            "max_temp_C outliers are values < -8.8 or > 57.0\n",
            "daily_avg outliers are values < -8.7 or > 44.85\n",
            "min_temp_C outliers are values < -11.4 or > 35.5\n",
            "uv_MJ_m*m outliers are values < -34.3 or > 72.8\n",
            "daily_range outliers are values < -9.1 or > 33.6\n"
          ]
        }
      ]
    },
    {
      "cell_type": "markdown",
      "metadata": {
        "id": "S90G-50zIX4E"
      },
      "source": [
        "It is worth noting that a rainy day is defined as rainfall $> 2.5mm$ which is close to our upper boundary gathered from this data."
      ],
      "id": "S90G-50zIX4E"
    },
    {
      "cell_type": "code",
      "metadata": {
        "id": "FmMh2WYMYNvD"
      },
      "source": [
        "# check the NaNs and/or missing values"
      ],
      "id": "FmMh2WYMYNvD",
      "execution_count": null,
      "outputs": []
    },
    {
      "cell_type": "code",
      "metadata": {
        "id": "GiOT8l5LQ60K"
      },
      "source": [
        "def add_is_rain(df: pd.DataFrame):\n",
        "  raincheck = []\n",
        "  for i in range(len(df)):\n",
        "    if df['rainfall_mm'][i] < 2.5: #Can change this to be < 2.5\n",
        "      raincheck.append(0) # instead of bool values, ill set them to 0 if no rain, 1 if there's rain\n",
        "    else:\n",
        "      raincheck.append(1)\n",
        "  df[\"is_rain\"] = raincheck\n",
        "  return df"
      ],
      "id": "GiOT8l5LQ60K",
      "execution_count": 11,
      "outputs": []
    },
    {
      "cell_type": "code",
      "metadata": {
        "colab": {
          "base_uri": "https://localhost:8080/"
        },
        "id": "wtNZS5wCTyw5",
        "outputId": "7dd68439-1ea6-4412-f7fc-8fbed0bbebbd"
      },
      "source": [
        "data_w_rain = add_is_rain(data)\n",
        "data_w_rain['is_rain'].values.sum()/len(data_w_rain)*100"
      ],
      "id": "wtNZS5wCTyw5",
      "execution_count": 12,
      "outputs": [
        {
          "output_type": "execute_result",
          "data": {
            "text/plain": [
              "17.586557661153602"
            ]
          },
          "metadata": {},
          "execution_count": 12
        }
      ]
    },
    {
      "cell_type": "markdown",
      "metadata": {
        "id": "lLzLZ7k0W4jj"
      },
      "source": [
        "Interestingly, only 31% of the days in the dataset are rain days, and with a tolerence of $2.5mm$ of rainfall classiftying a rainy day, "
      ],
      "id": "lLzLZ7k0W4jj"
    },
    {
      "cell_type": "code",
      "metadata": {
        "id": "5gkFnO3lZtKA"
      },
      "source": [
        ""
      ],
      "id": "5gkFnO3lZtKA",
      "execution_count": null,
      "outputs": []
    },
    {
      "cell_type": "code",
      "metadata": {
        "id": "uOu-mHU3ZtG0"
      },
      "source": [
        ""
      ],
      "id": "uOu-mHU3ZtG0",
      "execution_count": null,
      "outputs": []
    },
    {
      "cell_type": "code",
      "metadata": {
        "id": "c3WnMtlPZtD1"
      },
      "source": [
        ""
      ],
      "id": "c3WnMtlPZtD1",
      "execution_count": null,
      "outputs": []
    },
    {
      "cell_type": "code",
      "metadata": {
        "id": "chKn2uXRZsmy"
      },
      "source": [
        ""
      ],
      "id": "chKn2uXRZsmy",
      "execution_count": null,
      "outputs": []
    }
  ]
}